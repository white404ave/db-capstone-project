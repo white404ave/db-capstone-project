{
 "cells": [
  {
   "cell_type": "code",
   "execution_count": 26,
   "id": "03f4f470-70d2-42e9-8d9a-cebbd12187b5",
   "metadata": {},
   "outputs": [],
   "source": [
    "import mysql.connector as connector"
   ]
  },
  {
   "cell_type": "code",
   "execution_count": 27,
   "id": "65c73cc4-4142-4642-916d-bff8dca07f68",
   "metadata": {},
   "outputs": [],
   "source": [
    "connection = connector.connect(user = \"root\", password = \"Gen22@Flir77\", db = \"db-capstone-project\")"
   ]
  },
  {
   "cell_type": "code",
   "execution_count": 28,
   "id": "99a58fb8-0b3d-40ed-84da-9fec030a6e64",
   "metadata": {},
   "outputs": [],
   "source": [
    "cursor = connection.cursor()"
   ]
  },
  {
   "cell_type": "code",
   "execution_count": 29,
   "id": "0de79c3f-2337-4802-ae54-5b99c19619b5",
   "metadata": {},
   "outputs": [],
   "source": [
    "show_tables_query = \"SHOW tables\" "
   ]
  },
  {
   "cell_type": "code",
   "execution_count": 30,
   "id": "be141da7-b0bb-4362-90f0-08001a9b1aaa",
   "metadata": {},
   "outputs": [],
   "source": [
    "cursor.execute(show_tables_query)"
   ]
  },
  {
   "cell_type": "code",
   "execution_count": 31,
   "id": "893384c6-8e51-4948-82e5-f6acaa77bb59",
   "metadata": {},
   "outputs": [],
   "source": [
    "results = cursor.fetchall()"
   ]
  },
  {
   "cell_type": "code",
   "execution_count": 32,
   "id": "5afcfd7e-6023-43cb-9f30-bb2058650ce7",
   "metadata": {},
   "outputs": [
    {
     "name": "stdout",
     "output_type": "stream",
     "text": [
      "[('bookings',), ('customerdetail',), ('deliverystatus',), ('menu',), ('menuitems',), ('orders',), ('staff',)]\n"
     ]
    }
   ],
   "source": [
    "print(results)"
   ]
  },
  {
   "cell_type": "code",
   "execution_count": 13,
   "id": "36176a49-8610-4a6b-b1ce-28122f5e6c2c",
   "metadata": {},
   "outputs": [],
   "source": [
    "import sqlite3"
   ]
  },
  {
   "cell_type": "code",
   "execution_count": 14,
   "id": "6a2cf924-0eee-4be3-8365-6de9efd16eaf",
   "metadata": {},
   "outputs": [],
   "source": [
    "conn = sqlite3.connect('db-capstone-project')   \n",
    "cursor = conn.cursor()"
   ]
  },
  {
   "cell_type": "code",
   "execution_count": 15,
   "id": "bf222965-7b8a-4eb4-a228-544f0c345f3e",
   "metadata": {},
   "outputs": [],
   "source": [
    "sql_query = \"\"\" SELECT customerdetail.FullName, customerdetail.ContactNumber, orders.TotalCost\n",
    "FROM customerdetail\n",
    "JOIN Orders\n",
    "ON customerdetail.CustomerID = orders.CustomerID\n",
    "WHERE orders.TotalCost > 60; \"\"\""
   ]
  },
  {
   "cell_type": "code",
   "execution_count": 16,
   "id": "74c8efa7-d263-4f51-ada4-41c6a40f7e77",
   "metadata": {},
   "outputs": [
    {
     "ename": "OperationalError",
     "evalue": "no such table: customerdetail",
     "output_type": "error",
     "traceback": [
      "\u001b[1;31m---------------------------------------------------------------------------\u001b[0m",
      "\u001b[1;31mOperationalError\u001b[0m                          Traceback (most recent call last)",
      "Cell \u001b[1;32mIn[16], line 1\u001b[0m\n\u001b[1;32m----> 1\u001b[0m \u001b[43mcursor\u001b[49m\u001b[38;5;241;43m.\u001b[39;49m\u001b[43mexecute\u001b[49m\u001b[43m(\u001b[49m\u001b[43msql_query\u001b[49m\u001b[43m)\u001b[49m\n",
      "\u001b[1;31mOperationalError\u001b[0m: no such table: customerdetail"
     ]
    }
   ],
   "source": [
    "cursor.execute(sql_query)"
   ]
  },
  {
   "cell_type": "code",
   "execution_count": 17,
   "id": "ef8b3b56-2b3a-4d5f-9e8c-6c8582f72ece",
   "metadata": {},
   "outputs": [],
   "source": [
    "results = cursor.fetchall()"
   ]
  },
  {
   "cell_type": "code",
   "execution_count": 18,
   "id": "7efed9c3-ee60-46be-96bb-4114aac8d03d",
   "metadata": {},
   "outputs": [],
   "source": [
    "for row in results:\n",
    "    print(row)"
   ]
  },
  {
   "cell_type": "code",
   "execution_count": 19,
   "id": "9212ab60-ff50-4b24-a189-b52dcb30713d",
   "metadata": {},
   "outputs": [],
   "source": [
    "conn.close()"
   ]
  },
  {
   "cell_type": "code",
   "execution_count": null,
   "id": "953f1cfc-9c03-4ea3-8437-211f97955966",
   "metadata": {},
   "outputs": [],
   "source": []
  }
 ],
 "metadata": {
  "kernelspec": {
   "display_name": "Python 3 (ipykernel)",
   "language": "python",
   "name": "python3"
  },
  "language_info": {
   "codemirror_mode": {
    "name": "ipython",
    "version": 3
   },
   "file_extension": ".py",
   "mimetype": "text/x-python",
   "name": "python",
   "nbconvert_exporter": "python",
   "pygments_lexer": "ipython3",
   "version": "3.11.4"
  }
 },
 "nbformat": 4,
 "nbformat_minor": 5
}
